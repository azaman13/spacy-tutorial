{
 "cells": [
  {
   "cell_type": "code",
   "execution_count": 3,
   "metadata": {},
   "outputs": [],
   "source": [
    "# Import spacy and English models\n",
    "import spacy\n",
    "from spacy.en import English\n",
    "parser = English()\n"
   ]
  },
  {
   "cell_type": "code",
   "execution_count": 4,
   "metadata": {},
   "outputs": [
    {
     "name": "stdout",
     "output_type": "stream",
     "text": [
      "(u'lol', u'NOUN', u'lol')\n",
      "(u'that', u'ADJ', u'that')\n",
      "(u'is', u'VERB', u'be')\n",
      "(u'rly', u'ADV', u'rly')\n",
      "(u'funny', u'ADJ', u'funny')\n",
      "(u':)', u'PUNCT', u':)')\n",
      "(u'This', u'DET', u'this')\n",
      "(u'is', u'VERB', u'be')\n",
      "(u'gr8', u'VERB', u'gr8')\n",
      "(u'i', u'PRON', u'i')\n",
      "(u'rate', u'VERB', u'rate')\n",
      "(u'it', u'PRON', u'-PRON-')\n",
      "(u'8/8', u'NUM', u'8/8')\n",
      "(u'!', u'PUNCT', u'!')\n",
      "(u'!', u'PUNCT', u'!')\n",
      "(u'!', u'PUNCT', u'!')\n"
     ]
    }
   ],
   "source": [
    "messyData = u\"lol that is rly funny :) This is gr8 i rate it 8/8!!!\"\n",
    "parsedData = parser(messyData)\n",
    "for token in parsedData:\n",
    "    print(token.orth_, token.pos_, token.lemma_)\n",
    "    \n",
    "# it does pretty well! Note that it does fail on the token \"gr8\", \n",
    "# taking it as a verb rather than an adjective meaning \"great\"\n",
    "# and \"lol\" probably isn't a noun...it's more like an interjection\n"
   ]
  }
 ],
 "metadata": {
  "kernelspec": {
   "display_name": "health-class-env",
   "language": "python",
   "name": "health-class-env"
  },
  "language_info": {
   "codemirror_mode": {
    "name": "ipython",
    "version": 2
   },
   "file_extension": ".py",
   "mimetype": "text/x-python",
   "name": "python",
   "nbconvert_exporter": "python",
   "pygments_lexer": "ipython2",
   "version": "2.7.12"
  }
 },
 "nbformat": 4,
 "nbformat_minor": 2
}
